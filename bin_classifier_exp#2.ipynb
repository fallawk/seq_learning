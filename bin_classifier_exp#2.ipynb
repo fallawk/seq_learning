{
 "cells": [
  {
   "cell_type": "code",
   "execution_count": 1,
   "metadata": {},
   "outputs": [
    {
     "data": {
      "text/plain": [
       "'2.2.4-tf'"
      ]
     },
     "execution_count": 1,
     "metadata": {},
     "output_type": "execute_result"
    }
   ],
   "source": [
    "%matplotlib inline\n",
    "from tensorflow import keras\n",
    "from tensorflow.keras.layers import *\n",
    "from tensorflow.keras.models import *\n",
    "from tensorflow.keras.applications.resnet50 import *\n",
    "from tensorflow.keras.datasets import cifar100\n",
    "# from keras.datasets import cifar10\n",
    "# from keras.applications.resnet50 import *\n",
    "# from keras.layers import *\n",
    "# from keras.models import *\n",
    "# import keras\n",
    "\n",
    "import numpy as np\n",
    "import pandas as pd\n",
    "keras.__version__"
   ]
  },
  {
   "cell_type": "code",
   "execution_count": 2,
   "metadata": {},
   "outputs": [],
   "source": [
    "(x_train, y_train), (x_test, y_test) = cifar100.load_data()"
   ]
  },
  {
   "cell_type": "code",
   "execution_count": 3,
   "metadata": {},
   "outputs": [
    {
     "data": {
      "text/plain": [
       "((50000, 32, 32, 3), (50000, 1))"
      ]
     },
     "execution_count": 3,
     "metadata": {},
     "output_type": "execute_result"
    }
   ],
   "source": [
    "x_train.shape, y_train.shape"
   ]
  },
  {
   "cell_type": "code",
   "execution_count": 4,
   "metadata": {},
   "outputs": [
    {
     "data": {
      "text/plain": [
       "array([[19],\n",
       "       [29],\n",
       "       [ 0],\n",
       "       ...,\n",
       "       [ 3],\n",
       "       [ 7],\n",
       "       [73]])"
      ]
     },
     "execution_count": 4,
     "metadata": {},
     "output_type": "execute_result"
    }
   ],
   "source": [
    "y_train"
   ]
  },
  {
   "cell_type": "code",
   "execution_count": 14,
   "metadata": {},
   "outputs": [],
   "source": [
    "def get_model_bin_classify(feature_extractor):\n",
    "    x = feature_extractor.output\n",
    "    x = GlobalAveragePooling2D()(x)\n",
    "    x = Dense(10, activation='relu')(x)\n",
    "    x = Dense(1, activation='sigmoid')(x)\n",
    "    model = Model(inputs=feature_extractor.input, outputs=x)\n",
    "    model.compile(optimizer='sgd', loss='binary_crossentropy', metrics=['acc'])\n",
    "    return model\n",
    "\n",
    "def get_train_samples(X_train, y_train, cls_li):\n",
    "    mask = np.zeros(y_train.shape, dtype=np.bool)\n",
    "    for cls in cls_li:\n",
    "        mask += (y_train==cls)\n",
    "    mask = np.squeeze(mask)\n",
    "    return X_train[mask], y_train[mask]\n",
    "    \n",
    "def eva_bin_on_cls(model, X_valid, y_valid, cls_li, pos_samples):\n",
    "    re = {}\n",
    "    for cls in cls_li:\n",
    "        mask = (y_valid==cls)\n",
    "        mask = np.squeeze(mask)\n",
    "        X_valid_cur_sess = X_valid[mask]\n",
    "        y_valid_cur_sess = y_valid[mask]\n",
    "        y_valid_cur_sess = convert_to_bin_samples(y_valid_cur_sess, pos_samples)\n",
    "        loss, metric = model.evaluate(x=X_valid_cur_sess, y=y_valid_cur_sess)\n",
    "        re[cls]= (loss, metric)\n",
    "        print('Evaluation on %s th class loss: %f. Acc: %f' % (cls, loss, metric))\n",
    "    return re\n",
    "\n",
    "def convert_to_bin_samples(labels, pos_samples):\n",
    "    # arg1 = original labels, pos_samples = samples mark possitive\n",
    "    re_label = np.zeros(labels.shape, dtype=np.bool)\n",
    "    for it in pos_samples:\n",
    "        re_label += (labels == it)\n",
    "    return re_label"
   ]
  },
  {
   "cell_type": "code",
   "execution_count": 6,
   "metadata": {},
   "outputs": [
    {
     "name": "stderr",
     "output_type": "stream",
     "text": [
      "/usr/local/lib/python3.6/dist-packages/keras_applications/resnet50.py:265: UserWarning: The output shape of `ResNet50(include_top=False)` has been changed since Keras 2.2.0.\n",
      "  warnings.warn('The output shape of `ResNet50(include_top=False)` '\n"
     ]
    }
   ],
   "source": [
    "test_model = get_model_bin_classify(ResNet50(weights='imagenet', include_top=False))"
   ]
  },
  {
   "cell_type": "markdown",
   "metadata": {},
   "source": [
    "# Continue exp on bin classifier with larger datasets\n",
    "+ Method: Train a bin classifier incrementally with equal number of pos/neg samples every learning session\n",
    "+ Purpose: observe whether the performance of previous seen classes will converge."
   ]
  },
  {
   "cell_type": "code",
   "execution_count": 6,
   "metadata": {},
   "outputs": [],
   "source": [
    "import matplotlib.pyplot as plt\n",
    "import random"
   ]
  },
  {
   "cell_type": "code",
   "execution_count": 9,
   "metadata": {},
   "outputs": [],
   "source": [
    "def train_schemer(label_pool, train_set, eva_set, pos_sample=[0], scheme=None):\n",
    "    (x_train, y_train), (x_test, y_test) = train_set, eva_set\n",
    "    seen_labels = set()\n",
    "    if scheme is None:\n",
    "        pass\n",
    "    else:\n",
    "        for neg_sample in scheme:\n",
    "            X_train_sess, y_train_sess = get_train_samples(x_train, y_train, pos_sample+neg_sample)\n",
    "            y_train_sess = convert_to_bin_samples(y_train_sess, pos_sample)\n",
    "            trained_model = yield X_train_sess, y_train_sess\n",
    "            seen_labels.union(set(neg_sample))\n",
    "            if trained_model is None:\n",
    "                continue\n",
    "            re_dict = eva_bin_on_cls(trained_model, x_test, y_test, list(seen_labels), pos_sample)\n",
    "            \n",
    "            "
   ]
  },
  {
   "cell_type": "code",
   "execution_count": null,
   "metadata": {},
   "outputs": [],
   "source": []
  }
 ],
 "metadata": {
  "kernelspec": {
   "display_name": "Python 3",
   "language": "python",
   "name": "python3"
  },
  "language_info": {
   "codemirror_mode": {
    "name": "ipython",
    "version": 3
   },
   "file_extension": ".py",
   "mimetype": "text/x-python",
   "name": "python",
   "nbconvert_exporter": "python",
   "pygments_lexer": "ipython3",
   "version": "3.6.8"
  }
 },
 "nbformat": 4,
 "nbformat_minor": 2
}
